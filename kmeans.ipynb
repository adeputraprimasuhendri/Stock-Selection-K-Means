{
 "cells": [
  {
   "cell_type": "code",
   "execution_count": 102,
   "metadata": {
    "collapsed": true,
    "pycharm": {
     "name": "#%%\n"
    }
   },
   "outputs": [],
   "source": [
    "#!pip install openpyxl\n",
    "#!pip install yfinance\n",
    "import yfinance as yf\n",
    "import pandas as pd\n",
    "import numpy as np\n",
    "from sklearn.cluster import KMeans\n",
    "from matplotlib import pyplot as plt\n",
    "from sklearn.preprocessing import StandardScaler\n",
    "from datetime import datetime\n",
    "import pandas_datareader.data as web"
   ]
  },
  {
   "cell_type": "code",
   "execution_count": 112,
   "outputs": [],
   "source": [
    "# Indeks LQ45 untuk periode Februari-Juli 2022:\n",
    "ticker_list = ['ADHI.JK', 'ADRO.JK', 'AKRA.JK', 'ANTM.JK', 'ASII.JK',\n",
    "               'ASRI.JK', 'BBCA.JK', 'BBNI.JK', 'BBRI.JK', 'BBTN.JK',\n",
    "               'BKSL.JK', 'BMRI.JK', 'BSDE.JK', 'CPIN.JK', 'ELSA.JK',\n",
    "               'EXCL.JK', 'GGRM.JK', 'HMSP.JK', 'ICBP.JK', 'INCO.JK',\n",
    "               'INDF.JK', 'INDY.JK', 'INKP.JK', 'INTP.JK', 'ITMG.JK',\n",
    "               'JSMR.JK', 'KLBF.JK', 'LPKR.JK', 'LPPF.JK', 'MEDC.JK',\n",
    "               'MNCN.JK', 'PGAS.JK', 'PTBA.JK', 'PTPP.JK', 'SCMA.JK',\n",
    "               'SMGR.JK', 'SRIL.JK', 'SSMS.JK', 'TLKM.JK', 'TPIA.JK',\n",
    "               'UNTR.JK', 'UNVR.JK', 'WIKA.JK', 'WSBP.JK', 'WSKT.JK']"
   ],
   "metadata": {
    "collapsed": false,
    "pycharm": {
     "name": "#%%\n"
    }
   }
  },
  {
   "cell_type": "code",
   "execution_count": 117,
   "outputs": [
    {
     "name": "stdout",
     "output_type": "stream",
     "text": [
      "ADHI.JK DONE\n",
      "ADRO.JK DONE\n",
      "AKRA.JK DONE\n",
      "ANTM.JK DONE\n",
      "ASII.JK DONE\n",
      "ASRI.JK DONE\n",
      "BBCA.JK DONE\n",
      "BBNI.JK DONE\n",
      "BBRI.JK DONE\n",
      "BBTN.JK DONE\n",
      "BKSL.JK DONE\n",
      "BMRI.JK DONE\n",
      "BSDE.JK DONE\n",
      "CPIN.JK DONE\n",
      "ELSA.JK DONE\n",
      "EXCL.JK DONE\n",
      "GGRM.JK DONE\n",
      "HMSP.JK DONE\n",
      "ICBP.JK DONE\n",
      "INCO.JK DONE\n",
      "INDF.JK DONE\n",
      "INDY.JK DONE\n",
      "INKP.JK DONE\n",
      "INTP.JK DONE\n",
      "ITMG.JK DONE\n",
      "JSMR.JK DONE\n",
      "KLBF.JK DONE\n",
      "LPKR.JK DONE\n",
      "LPPF.JK DONE\n",
      "MEDC.JK DONE\n",
      "MNCN.JK DONE\n",
      "PGAS.JK DONE\n",
      "PTBA.JK DONE\n",
      "PTPP.JK DONE\n",
      "SCMA.JK DONE\n",
      "SMGR.JK DONE\n",
      "SRIL.JK DONE\n",
      "SSMS.JK DONE\n",
      "TLKM.JK DONE\n",
      "TPIA.JK DONE\n",
      "UNTR.JK DONE\n",
      "UNVR.JK DONE\n",
      "WIKA.JK DONE\n",
      "WSBP.JK DONE\n",
      "WSKT.JK DONE\n",
      "DataFrame is written to CSV File successfully.\n"
     ]
    }
   ],
   "source": [
    "roa = []\n",
    "roe = []\n",
    "mcap = []\n",
    "avgVol = []\n",
    "name = []\n",
    "print(\"Please wait downloading the data..\")\n",
    "for ticker in ticker_list:\n",
    "    ds = yf.Ticker(ticker)\n",
    "    roa.append(ds.info['returnOnAssets'])\n",
    "    roe.append(ds.info['returnOnEquity'])\n",
    "    mcap.append(ds.info['marketCap'])\n",
    "    avgVol.append(ds.info['averageVolume'])\n",
    "df = pd.DataFrame({\n",
    "    'ROA': roa,\n",
    "    'ROE': roe,\n",
    "    'MCap' : mcap,\n",
    "    'AvgVol' : avgVol\n",
    "})\n",
    "df.to_csv('StockData.csv', index=False, encoding='utf-8')\n",
    "print('DataFrame is written to CSV File successfully.')"
   ],
   "metadata": {
    "collapsed": false,
    "pycharm": {
     "name": "#%%\n"
    }
   }
  },
  {
   "cell_type": "code",
   "execution_count": 137,
   "outputs": [],
   "source": [
    "# Transform The Data\n",
    "df = pd.read_csv('StockData.csv')\n",
    "scaler = StandardScaler()\n",
    "scaler.fit(df)\n",
    "dfs = scaler.transform(df)\n",
    "df_scaled = pd.DataFrame(dfs, columns=['ROA','ROE','MCap','AvgVol'])"
   ],
   "metadata": {
    "collapsed": false,
    "pycharm": {
     "name": "#%%\n"
    }
   }
  },
  {
   "cell_type": "code",
   "execution_count": 176,
   "outputs": [
    {
     "name": "stdout",
     "output_type": "stream",
     "text": [
      "Initialization complete\n",
      "Iteration 0, inertia 114.08384146092368\n",
      "Iteration 1, inertia 88.14086374464256\n",
      "Iteration 2, inertia 71.10707392908888\n",
      "Iteration 3, inertia 62.420995041866945\n",
      "Converged at iteration 3: strict convergence.\n"
     ]
    },
    {
     "data": {
      "text/plain": "array([[-0.00372456,  0.15808669,  3.13998121,  2.0668329 ],\n       [ 0.0187393 ,  0.12088385, -0.23895594, -0.4207408 ],\n       [-3.22670168, -3.51314343, -0.57345654, -0.94524826],\n       [ 0.83516861,  0.36612283, -0.05535492,  1.36777775]])"
     },
     "execution_count": 176,
     "metadata": {},
     "output_type": "execute_result"
    }
   ],
   "source": [
    "# K-Means Proses\n",
    "# km = KMeans(n_clusters=4)\n",
    "# y_predicted = km.fit_predict(df_scaled[['ROA','ROE','MCap','AvgVol']])\n",
    "y_predicted = KMeans(n_clusters=4, init='random', max_iter=100, n_init=1, verbose=1)\n",
    "y_predicted.fit(df_scaled)\n",
    "y_predicted.cluster_centers_\n",
    "# cluster_map = pd.DataFrame()\n",
    "# cluster_map['Stock Code'] = df.index.values\n",
    "# cluster_map['cluster'] = y_predicted.labels_\n",
    "# cluster_map[cluster_map.cluster == 0]\n",
    "# for index, x in enumerate(y_predicted):\n",
    "#     print(ticker_list[index], \"in Cluster -\",x)"
   ],
   "metadata": {
    "collapsed": false,
    "pycharm": {
     "name": "#%%\n"
    }
   }
  },
  {
   "cell_type": "code",
   "execution_count": 147,
   "outputs": [
    {
     "data": {
      "text/plain": "<Figure size 432x288 with 1 Axes>",
      "image/png": "[encoded data removed]"
     },
     "metadata": {
      "needs_background": "light"
     },
     "output_type": "display_data"
    }
   ],
   "source": [
    "u_labels = np.unique(y_predicted)\n",
    "for i in u_labels:\n",
    "    plt.scatter(dfs[y_predicted == i , 0] , dfs[y_predicted == i , 1] , label = i)\n",
    "plt.legend()\n",
    "plt.show()"
   ],
   "metadata": {
    "collapsed": false,
    "pycharm": {
     "name": "#%%\n"
    }
   }
  }
 ],
 "metadata": {
  "kernelspec": {
   "display_name": "Python 3",
   "language": "python",
   "name": "python3"
  },
  "language_info": {
   "codemirror_mode": {
    "name": "ipython",
    "version": 2
   },
   "file_extension": ".py",
   "mimetype": "text/x-python",
   "name": "python",
   "nbconvert_exporter": "python",
   "pygments_lexer": "ipython2",
   "version": "2.7.6"
  }
 },
 "nbformat": 4,
 "nbformat_minor": 0
}